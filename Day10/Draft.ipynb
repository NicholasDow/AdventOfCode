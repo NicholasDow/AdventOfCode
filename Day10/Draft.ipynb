{
 "cells": [
  {
   "cell_type": "code",
   "execution_count": 15,
   "metadata": {},
   "outputs": [],
   "source": [
    "import numpy"
   ]
  },
  {
   "cell_type": "code",
   "execution_count": 18,
   "metadata": {},
   "outputs": [],
   "source": [
    "import collections"
   ]
  },
  {
   "cell_type": "code",
   "execution_count": 27,
   "metadata": {},
   "outputs": [],
   "source": [
    "def solve():\n",
    "    with open('input.txt') as f:\n",
    "        file = f.readlines()\n",
    "    file = [int(socket) for socket in file]\n",
    "    file.sort()\n",
    "    print(file)\n",
    "    actual = list(numpy.diff(file))\n",
    "    actual.insert(0,1)\n",
    "    actual.append(3)\n",
    "    \n",
    "    print(collections.Counter(actual))\n",
    "    "
   ]
  },
  {
   "cell_type": "code",
   "execution_count": 28,
   "metadata": {},
   "outputs": [
    {
     "name": "stdout",
     "output_type": "stream",
     "text": [
      "[1, 2, 3, 4, 7, 10, 11, 12, 13, 16, 19, 20, 21, 22, 25, 26, 27, 30, 33, 34, 35, 38, 41, 44, 45, 46, 47, 48, 51, 52, 55, 58, 59, 60, 61, 64, 67, 68, 71, 72, 73, 74, 77, 78, 79, 80, 83, 86, 87, 88, 89, 90, 93, 94, 95, 98, 99, 100, 101, 102, 105, 108, 109, 110, 113, 114, 115, 118, 119, 120, 121, 122, 125, 128, 129, 130, 131, 132, 135, 136, 137, 138, 139, 142, 143, 144, 145, 148, 151, 152, 153, 154, 157, 160, 161, 162, 163, 166, 167, 168, 169, 172, 173, 174, 177, 178, 179, 180, 181, 184, 187, 190, 191, 192]\n",
      "[1 1 1 3 3 1 1 1 3 3 1 1 1 3 1 1 3 3 1 1 3 3 3 1 1 1 1 3 1 3 3 1 1 1 3 3 1\n",
      " 3 1 1 1 3 1 1 1 3 3 1 1 1 1 3 1 1 3 1 1 1 1 3 3 1 1 3 1 1 3 1 1 1 1 3 3 1\n",
      " 1 1 1 3 1 1 1 1 3 1 1 1 3 3 1 1 1 3 3 1 1 1 3 1 1 1 3 1 1 3 1 1 1 1 3 3 3\n",
      " 1 1]\n",
      "Counter({1: 74, 3: 39})\n"
     ]
    }
   ],
   "source": [
    "solve()"
   ]
  },
  {
   "cell_type": "code",
   "execution_count": 34,
   "metadata": {},
   "outputs": [
    {
     "data": {
      "text/plain": [
       "3000"
      ]
     },
     "execution_count": 34,
     "metadata": {},
     "output_type": "execute_result"
    }
   ],
   "source": [
    "75*40"
   ]
  },
  {
   "cell_type": "code",
   "execution_count": 32,
   "metadata": {},
   "outputs": [],
   "source": [
    "file = open('small.txt').readlines()"
   ]
  },
  {
   "cell_type": "code",
   "execution_count": 33,
   "metadata": {},
   "outputs": [
    {
     "name": "stdout",
     "output_type": "stream",
     "text": [
      "[1, 2, 3, 4, 7, 8, 9, 10, 11, 14, 17, 18, 19, 20, 23, 24, 25, 28, 31, 32, 33, 34, 35, 38, 39, 42, 45, 46, 47, 48, 49]\n",
      "[1 1 1 3 1 1 1 1 3 3 1 1 1 3 1 1 3 3 1 1 1 1 3 1 3 3 1 1 1 1]\n",
      "Counter({1: 21, 3: 9})\n"
     ]
    }
   ],
   "source": [
    "file = [int(socket) for socket in file]\n",
    "file.sort()\n",
    "print(file)\n",
    "print(numpy.diff(file))\n",
    "print(collections.Counter(numpy.diff(file)))"
   ]
  },
  {
   "cell_type": "markdown",
   "metadata": {},
   "source": [
    "# note the values of the lengths of 1111 equal fibonacci seq except + 1 on each. I just hard coded them in"
   ]
  },
  {
   "cell_type": "code",
   "execution_count": 121,
   "metadata": {},
   "outputs": [],
   "source": [
    "def solve2():\n",
    "    with open('input.txt') as f:\n",
    "        file = f.readlines()\n",
    "    file = [int(socket) for socket in file]\n",
    "    file.sort()\n",
    "    actual = list(numpy.diff(file))\n",
    "    actual.insert(0,1)\n",
    "    actual.append(3)\n",
    "    thing = ''.join([str(i) for i in actual])\n",
    "    thing = dict(collections.Counter(thing.split('3')))\n",
    "    thing.pop('', None)\n",
    "    thing.pop('1', None)\n",
    "    value = 1\n",
    "    mult = [7, 4, 2]\n",
    "    for i,v in enumerate(thing.values()):\n",
    "        value *= mult[i]**v\n",
    "    print(value)"
   ]
  },
  {
   "cell_type": "code",
   "execution_count": null,
   "metadata": {},
   "outputs": [],
   "source": []
  },
  {
   "cell_type": "code",
   "execution_count": 122,
   "metadata": {},
   "outputs": [
    {
     "name": "stdout",
     "output_type": "stream",
     "text": [
      "193434623148032\n"
     ]
    }
   ],
   "source": [
    "solve2()"
   ]
  },
  {
   "cell_type": "code",
   "execution_count": 93,
   "metadata": {},
   "outputs": [
    {
     "data": {
      "text/plain": [
       "193434623148032"
      ]
     },
     "execution_count": 93,
     "metadata": {},
     "output_type": "execute_result"
    }
   ],
   "source": [
    "(7**8)*(4**9)*(2**7)"
   ]
  },
  {
   "cell_type": "code",
   "execution_count": 46,
   "metadata": {},
   "outputs": [
    {
     "name": "stdout",
     "output_type": "stream",
     "text": [
      "[1, 4, 5, 6, 7, 10, 11, 12, 15, 16, 19]\n",
      "[1, 3, 1, 1, 1, 3, 1, 1, 3, 1, 3, 3]\n"
     ]
    }
   ],
   "source": [
    "    with open('vsmall.txt') as f:\n",
    "        file = f.readlines()\n",
    "    file = [int(socket) for socket in file]\n",
    "    file.sort()\n",
    "    print(file)\n",
    "    actual = list(numpy.diff(file))\n",
    "    actual.insert(0,1)\n",
    "    actual.append(3)\n",
    "    print(actual)"
   ]
  },
  {
   "cell_type": "code",
   "execution_count": 71,
   "metadata": {},
   "outputs": [],
   "source": [
    "def solve2():\n",
    "    with open('input.txt') as f:\n",
    "        file = f.readlines()\n",
    "    file = [int(socket) for socket in file]\n",
    "    file.sort()\n",
    "    actual = file\n",
    "    actual.insert(0,0)\n",
    "    actual.append(195)\n",
    "    print(actual)\n",
    "    for i in actual:\n",
    "        print(i)\n",
    "    print(collections.Counter(numpy.diff(file)))"
   ]
  },
  {
   "cell_type": "code",
   "execution_count": 72,
   "metadata": {},
   "outputs": [
    {
     "name": "stdout",
     "output_type": "stream",
     "text": [
      "[0, 1, 2, 3, 4, 7, 10, 11, 12, 13, 16, 19, 20, 21, 22, 25, 26, 27, 30, 33, 34, 35, 38, 41, 44, 45, 46, 47, 48, 51, 52, 55, 58, 59, 60, 61, 64, 67, 68, 71, 72, 73, 74, 77, 78, 79, 80, 83, 86, 87, 88, 89, 90, 93, 94, 95, 98, 99, 100, 101, 102, 105, 108, 109, 110, 113, 114, 115, 118, 119, 120, 121, 122, 125, 128, 129, 130, 131, 132, 135, 136, 137, 138, 139, 142, 143, 144, 145, 148, 151, 152, 153, 154, 157, 160, 161, 162, 163, 166, 167, 168, 169, 172, 173, 174, 177, 178, 179, 180, 181, 184, 187, 190, 191, 192, 195]\n",
      "0\n",
      "1\n",
      "2\n",
      "3\n",
      "4\n",
      "7\n",
      "10\n",
      "11\n",
      "12\n",
      "13\n",
      "16\n",
      "19\n",
      "20\n",
      "21\n",
      "22\n",
      "25\n",
      "26\n",
      "27\n",
      "30\n",
      "33\n",
      "34\n",
      "35\n",
      "38\n",
      "41\n",
      "44\n",
      "45\n",
      "46\n",
      "47\n",
      "48\n",
      "51\n",
      "52\n",
      "55\n",
      "58\n",
      "59\n",
      "60\n",
      "61\n",
      "64\n",
      "67\n",
      "68\n",
      "71\n",
      "72\n",
      "73\n",
      "74\n",
      "77\n",
      "78\n",
      "79\n",
      "80\n",
      "83\n",
      "86\n",
      "87\n",
      "88\n",
      "89\n",
      "90\n",
      "93\n",
      "94\n",
      "95\n",
      "98\n",
      "99\n",
      "100\n",
      "101\n",
      "102\n",
      "105\n",
      "108\n",
      "109\n",
      "110\n",
      "113\n",
      "114\n",
      "115\n",
      "118\n",
      "119\n",
      "120\n",
      "121\n",
      "122\n",
      "125\n",
      "128\n",
      "129\n",
      "130\n",
      "131\n",
      "132\n",
      "135\n",
      "136\n",
      "137\n",
      "138\n",
      "139\n",
      "142\n",
      "143\n",
      "144\n",
      "145\n",
      "148\n",
      "151\n",
      "152\n",
      "153\n",
      "154\n",
      "157\n",
      "160\n",
      "161\n",
      "162\n",
      "163\n",
      "166\n",
      "167\n",
      "168\n",
      "169\n",
      "172\n",
      "173\n",
      "174\n",
      "177\n",
      "178\n",
      "179\n",
      "180\n",
      "181\n",
      "184\n",
      "187\n",
      "190\n",
      "191\n",
      "192\n",
      "195\n",
      "Counter({1: 75, 3: 40})\n"
     ]
    }
   ],
   "source": [
    "solve2()"
   ]
  },
  {
   "cell_type": "markdown",
   "metadata": {},
   "source": [
    "# As it turns out this is a dynamic programing problem, and I should have seen that. See:"
   ]
  },
  {
   "cell_type": "code",
   "execution_count": 127,
   "metadata": {},
   "outputs": [
    {
     "name": "stdout",
     "output_type": "stream",
     "text": [
      "193434623148032\n"
     ]
    }
   ],
   "source": [
    "\n",
    "with open(\"input.txt\", \"r\") as f:\n",
    "    lines = [int(line) for line in f.read().splitlines()]\n",
    "\n",
    "lines.append(0)\n",
    "lines.append(max(lines) + 3)\n",
    "lines.sort()\n",
    "\n",
    "paths = {line: 0 for line in lines}\n",
    "paths[0] = 1\n",
    "\n",
    "for n in lines:\n",
    "    for i in range(1, 4):\n",
    "        if n + i in paths:\n",
    "            paths[n + i] += paths[n]\n",
    "\n",
    "print(chargers[max(lines)])"
   ]
  },
  {
   "cell_type": "code",
   "execution_count": 128,
   "metadata": {},
   "outputs": [
    {
     "data": {
      "text/plain": [
       "{0: 1,\n",
       " 1: 1,\n",
       " 2: 2,\n",
       " 3: 4,\n",
       " 4: 7,\n",
       " 7: 7,\n",
       " 10: 7,\n",
       " 11: 7,\n",
       " 12: 14,\n",
       " 13: 28,\n",
       " 16: 28,\n",
       " 19: 28,\n",
       " 20: 28,\n",
       " 21: 56,\n",
       " 22: 112,\n",
       " 25: 112,\n",
       " 26: 112,\n",
       " 27: 224,\n",
       " 30: 224,\n",
       " 33: 224,\n",
       " 34: 224,\n",
       " 35: 448,\n",
       " 38: 448,\n",
       " 41: 448,\n",
       " 44: 448,\n",
       " 45: 448,\n",
       " 46: 896,\n",
       " 47: 1792,\n",
       " 48: 3136,\n",
       " 51: 3136,\n",
       " 52: 3136,\n",
       " 55: 3136,\n",
       " 58: 3136,\n",
       " 59: 3136,\n",
       " 60: 6272,\n",
       " 61: 12544,\n",
       " 64: 12544,\n",
       " 67: 12544,\n",
       " 68: 12544,\n",
       " 71: 12544,\n",
       " 72: 12544,\n",
       " 73: 25088,\n",
       " 74: 50176,\n",
       " 77: 50176,\n",
       " 78: 50176,\n",
       " 79: 100352,\n",
       " 80: 200704,\n",
       " 83: 200704,\n",
       " 86: 200704,\n",
       " 87: 200704,\n",
       " 88: 401408,\n",
       " 89: 802816,\n",
       " 90: 1404928,\n",
       " 93: 1404928,\n",
       " 94: 1404928,\n",
       " 95: 2809856,\n",
       " 98: 2809856,\n",
       " 99: 2809856,\n",
       " 100: 5619712,\n",
       " 101: 11239424,\n",
       " 102: 19668992,\n",
       " 105: 19668992,\n",
       " 108: 19668992,\n",
       " 109: 19668992,\n",
       " 110: 39337984,\n",
       " 113: 39337984,\n",
       " 114: 39337984,\n",
       " 115: 78675968,\n",
       " 118: 78675968,\n",
       " 119: 78675968,\n",
       " 120: 157351936,\n",
       " 121: 314703872,\n",
       " 122: 550731776,\n",
       " 125: 550731776,\n",
       " 128: 550731776,\n",
       " 129: 550731776,\n",
       " 130: 1101463552,\n",
       " 131: 2202927104,\n",
       " 132: 3855122432,\n",
       " 135: 3855122432,\n",
       " 136: 3855122432,\n",
       " 137: 7710244864,\n",
       " 138: 15420489728,\n",
       " 139: 26985857024,\n",
       " 142: 26985857024,\n",
       " 143: 26985857024,\n",
       " 144: 53971714048,\n",
       " 145: 107943428096,\n",
       " 148: 107943428096,\n",
       " 151: 107943428096,\n",
       " 152: 107943428096,\n",
       " 153: 215886856192,\n",
       " 154: 431773712384,\n",
       " 157: 431773712384,\n",
       " 160: 431773712384,\n",
       " 161: 431773712384,\n",
       " 162: 863547424768,\n",
       " 163: 1727094849536,\n",
       " 166: 1727094849536,\n",
       " 167: 1727094849536,\n",
       " 168: 3454189699072,\n",
       " 169: 6908379398144,\n",
       " 172: 6908379398144,\n",
       " 173: 6908379398144,\n",
       " 174: 13816758796288,\n",
       " 177: 13816758796288,\n",
       " 178: 13816758796288,\n",
       " 179: 27633517592576,\n",
       " 180: 55267035185152,\n",
       " 181: 96717311574016,\n",
       " 184: 96717311574016,\n",
       " 187: 96717311574016,\n",
       " 190: 96717311574016,\n",
       " 191: 96717311574016,\n",
       " 192: 193434623148032,\n",
       " 195: 193434623148032}"
      ]
     },
     "execution_count": 128,
     "metadata": {},
     "output_type": "execute_result"
    }
   ],
   "source": [
    "chargers"
   ]
  },
  {
   "cell_type": "code",
   "execution_count": 90,
   "metadata": {
    "scrolled": true
   },
   "outputs": [
    {
     "data": {
      "text/plain": [
       "33554432.0"
      ]
     },
     "execution_count": 90,
     "metadata": {},
     "output_type": "execute_result"
    }
   ],
   "source": [
    "193434623148032 / (7**8)"
   ]
  },
  {
   "cell_type": "code",
   "execution_count": 94,
   "metadata": {},
   "outputs": [
    {
     "data": {
      "text/plain": [
       "65536.0"
      ]
     },
     "execution_count": 94,
     "metadata": {},
     "output_type": "execute_result"
    }
   ],
   "source": [
    "(33554432) / 2**7"
   ]
  },
  {
   "cell_type": "code",
   "execution_count": 96,
   "metadata": {},
   "outputs": [
    {
     "data": {
      "text/plain": [
       "1.0"
      ]
     },
     "execution_count": 96,
     "metadata": {},
     "output_type": "execute_result"
    }
   ],
   "source": [
    "65536.0 / 4**8"
   ]
  },
  {
   "cell_type": "code",
   "execution_count": null,
   "metadata": {},
   "outputs": [],
   "source": []
  },
  {
   "cell_type": "code",
   "execution_count": null,
   "metadata": {},
   "outputs": [],
   "source": []
  }
 ],
 "metadata": {
  "kernelspec": {
   "display_name": "Python 3",
   "language": "python",
   "name": "python3"
  },
  "language_info": {
   "codemirror_mode": {
    "name": "ipython",
    "version": 3
   },
   "file_extension": ".py",
   "mimetype": "text/x-python",
   "name": "python",
   "nbconvert_exporter": "python",
   "pygments_lexer": "ipython3",
   "version": "3.7.0"
  }
 },
 "nbformat": 4,
 "nbformat_minor": 2
}
