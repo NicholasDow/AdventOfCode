{
 "cells": [
  {
   "cell_type": "code",
   "execution_count": 6,
   "metadata": {},
   "outputs": [],
   "source": [
    "def two_sum(li, target):\n",
    "    for i in li:\n",
    "        for x in li:\n",
    "            if i != x and i == target-x:\n",
    "                return True\n",
    "    return False"
   ]
  },
  {
   "cell_type": "code",
   "execution_count": 7,
   "metadata": {},
   "outputs": [],
   "source": [
    "file = open('input.txt').readlines()"
   ]
  },
  {
   "cell_type": "code",
   "execution_count": 8,
   "metadata": {},
   "outputs": [],
   "source": [
    "newfile = [int(i.strip()) for i in file]"
   ]
  },
  {
   "cell_type": "code",
   "execution_count": 9,
   "metadata": {},
   "outputs": [
    {
     "name": "stdout",
     "output_type": "stream",
     "text": [
      "[323406729, 345763478, 347647805, 433135089, 351175490, 508670651, 387892848, 602248053, 581856330, 408330950, 751499626, 449371141, 529948895, 502671789, 662434084, 497429223, 599039615, 671054534, 875466767, 614662870, 630283496, 667846096, 905263059, 827472779, 1270094149]\n",
      "location 620\n",
      "target 556543474\n"
     ]
    }
   ],
   "source": [
    "for i,x in enumerate(newfile):\n",
    "    if i <= 25:\n",
    "        pass\n",
    "    else:\n",
    "        if not two_sum(newfile[i-25:i], x):\n",
    "            print(newfile[i-25:i])\n",
    "            print('location', i)\n",
    "            print('target', x)\n",
    "            break"
   ]
  },
  {
   "cell_type": "code",
   "execution_count": 10,
   "metadata": {},
   "outputs": [],
   "source": [
    "big_target = 556543474"
   ]
  },
  {
   "cell_type": "code",
   "execution_count": 11,
   "metadata": {},
   "outputs": [],
   "source": [
    "location = 620"
   ]
  },
  {
   "cell_type": "code",
   "execution_count": 12,
   "metadata": {},
   "outputs": [],
   "source": [
    "newlist = newfile[:620]"
   ]
  },
  {
   "cell_type": "code",
   "execution_count": 27,
   "metadata": {},
   "outputs": [],
   "source": [
    "def find_it_god_damn_it():\n",
    "    for size in range(location):\n",
    "        actualsize = location-size\n",
    "        for start in range(location-actualsize):\n",
    "            if sum(newlist[start:start+actualsize+1]) == big_target:\n",
    "                print(min(newlist[start:start+actualsize+1]) + max(newlist[start:start+actualsize+1]))"
   ]
  },
  {
   "cell_type": "code",
   "execution_count": 28,
   "metadata": {},
   "outputs": [
    {
     "name": "stdout",
     "output_type": "stream",
     "text": [
      "76096372\n"
     ]
    }
   ],
   "source": [
    "find_it_god_damn_it()"
   ]
  },
  {
   "cell_type": "code",
   "execution_count": null,
   "metadata": {},
   "outputs": [],
   "source": []
  },
  {
   "cell_type": "code",
   "execution_count": null,
   "metadata": {},
   "outputs": [],
   "source": []
  }
 ],
 "metadata": {
  "kernelspec": {
   "display_name": "Python 3",
   "language": "python",
   "name": "python3"
  },
  "language_info": {
   "codemirror_mode": {
    "name": "ipython",
    "version": 3
   },
   "file_extension": ".py",
   "mimetype": "text/x-python",
   "name": "python",
   "nbconvert_exporter": "python",
   "pygments_lexer": "ipython3",
   "version": "3.7.0"
  }
 },
 "nbformat": 4,
 "nbformat_minor": 2
}
