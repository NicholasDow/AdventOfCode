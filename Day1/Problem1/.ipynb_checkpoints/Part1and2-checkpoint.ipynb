{
 "cells": [
  {
   "cell_type": "markdown",
   "metadata": {},
   "source": [
    "# The Problem Draft:\n",
    "We are trying to find the two numbers in this list that add up to 2020 and find their product. The first part of this problem is the two sum problem, which we can solve with brute force or a simple hashtable."
   ]
  },
  {
   "cell_type": "code",
   "execution_count": 54,
   "metadata": {},
   "outputs": [],
   "source": [
    "text = open('input.txt', 'r')"
   ]
  },
  {
   "cell_type": "code",
   "execution_count": 55,
   "metadata": {},
   "outputs": [],
   "source": [
    "read = text.read()"
   ]
  },
  {
   "cell_type": "code",
   "execution_count": 56,
   "metadata": {},
   "outputs": [],
   "source": [
    "numbers = read.split('\\n')\n",
    "numbers.remove('')"
   ]
  },
  {
   "cell_type": "code",
   "execution_count": 57,
   "metadata": {},
   "outputs": [],
   "source": [
    "numbers = list(map(int, numbers))"
   ]
  },
  {
   "cell_type": "code",
   "execution_count": 58,
   "metadata": {},
   "outputs": [],
   "source": [
    "# Making hashtable which average O(1) look up (ty python)\n",
    "lookup = {}\n",
    "# We want 2020\n",
    "n = 2020"
   ]
  },
  {
   "cell_type": "code",
   "execution_count": 59,
   "metadata": {},
   "outputs": [
    {
     "name": "stdout",
     "output_type": "stream",
     "text": [
      "605364\n"
     ]
    }
   ],
   "source": [
    "for i, x in enumerate(numbers):\n",
    "    temp = n - x\n",
    "    if temp not in lookup:\n",
    "        lookup[x] = i\n",
    "    else:\n",
    "        print(x*temp)\n",
    "        "
   ]
  },
  {
   "cell_type": "code",
   "execution_count": 60,
   "metadata": {},
   "outputs": [
    {
     "data": {
      "text/plain": [
       "False"
      ]
     },
     "execution_count": 60,
     "metadata": {},
     "output_type": "execute_result"
    }
   ],
   "source": [
    "32 in lookup"
   ]
  },
  {
   "cell_type": "markdown",
   "metadata": {},
   "source": [
    "# Improvements and final version\n",
    "I realized that I was using a dictionary that was kindof pointless. Sets also have the O(1) look up time and none of the extra stuff we don't need for this problem"
   ]
  },
  {
   "cell_type": "code",
   "execution_count": 61,
   "metadata": {},
   "outputs": [],
   "source": [
    "def problem1(n = 2020, address='input.txt'):\n",
    "    '''\n",
    "    Solves problem 1 from advent of code, is effectively two sum problem \n",
    "    \n",
    "    Improvements: Set instead of dict, and i used split lines instead of split('/n')\n",
    "    '''\n",
    "    # Reading everything in\n",
    "    text = open('input.txt', 'r').read()\n",
    "    numbers = text.splitlines()\n",
    "    numbers = list(map(int, numbers))\n",
    "    \n",
    "    # 2sum with set\n",
    "    lookup = set()\n",
    "    for index, num in enumerate(numbers):\n",
    "        if n-num not in lookup:\n",
    "            lookup.add(num)\n",
    "        else:\n",
    "            return num * (n-num)"
   ]
  },
  {
   "cell_type": "code",
   "execution_count": 62,
   "metadata": {},
   "outputs": [
    {
     "data": {
      "text/plain": [
       "605364"
      ]
     },
     "execution_count": 62,
     "metadata": {},
     "output_type": "execute_result"
    }
   ],
   "source": [
    "problem1()"
   ]
  },
  {
   "cell_type": "code",
   "execution_count": 81,
   "metadata": {},
   "outputs": [],
   "source": [
    "def problem2(n = 2020, address='input.txt'):\n",
    "    '''\n",
    "    Solves problem 1 from advent of code, is effectively two sum problem \n",
    "    \n",
    "    Improvements: Set instead of dict, and i used split lines instead of split('/n')\n",
    "    '''\n",
    "    # Reading everything in\n",
    "    text = open('input.txt', 'r').read()\n",
    "    numbers = text.splitlines()\n",
    "    numbers = list(map(int, numbers))\n",
    "    \n",
    "    # basically 3sum?\n",
    "    # nlogn\n",
    "    numbers.sort()\n",
    "    tot = 0\n",
    "    for i in range(len(numbers)-2):\n",
    "        j, k = i+1, len(numbers) - 1\n",
    "        while j < k:\n",
    "            tot = numbers[i] + numbers[j] + numbers[k]\n",
    "            if tot == n:\n",
    "                print(numbers[i],numbers[j],numbers[k])\n",
    "                return numbers[i]*numbers[j]*numbers[k]\n",
    "            if tot < n:\n",
    "                j += 1\n",
    "            elif tot > n:\n",
    "                k -= 1\n",
    "    return \"fucked up\"\n",
    "            "
   ]
  },
  {
   "cell_type": "code",
   "execution_count": 82,
   "metadata": {},
   "outputs": [
    {
     "name": "stdout",
     "output_type": "stream",
     "text": [
      "166 634 1220\n"
     ]
    },
    {
     "data": {
      "text/plain": [
       "128397680"
      ]
     },
     "execution_count": 82,
     "metadata": {},
     "output_type": "execute_result"
    }
   ],
   "source": [
    "problem2()"
   ]
  },
  {
   "cell_type": "code",
   "execution_count": 84,
   "metadata": {},
   "outputs": [],
   "source": [
    "numbers.sort()"
   ]
  },
  {
   "cell_type": "code",
   "execution_count": 85,
   "metadata": {},
   "outputs": [
    {
     "data": {
      "text/plain": [
       "[42,\n",
       " 107,\n",
       " 144,\n",
       " 166,\n",
       " 366,\n",
       " 463,\n",
       " 508,\n",
       " 634,\n",
       " 675,\n",
       " 841,\n",
       " 1220,\n",
       " 1309,\n",
       " 1380,\n",
       " 1387,\n",
       " 1397,\n",
       " 1425,\n",
       " 1427,\n",
       " 1429,\n",
       " 1456,\n",
       " 1467,\n",
       " 1484,\n",
       " 1490,\n",
       " 1503,\n",
       " 1504,\n",
       " 1506,\n",
       " 1518,\n",
       " 1520,\n",
       " 1522,\n",
       " 1532,\n",
       " 1535,\n",
       " 1537,\n",
       " 1548,\n",
       " 1558,\n",
       " 1559,\n",
       " 1568,\n",
       " 1571,\n",
       " 1577,\n",
       " 1579,\n",
       " 1580,\n",
       " 1582,\n",
       " 1592,\n",
       " 1593,\n",
       " 1600,\n",
       " 1606,\n",
       " 1616,\n",
       " 1627,\n",
       " 1654,\n",
       " 1660,\n",
       " 1665,\n",
       " 1681,\n",
       " 1684,\n",
       " 1687,\n",
       " 1718,\n",
       " 1726,\n",
       " 1735,\n",
       " 1762,\n",
       " 1779,\n",
       " 1783,\n",
       " 1789,\n",
       " 1792,\n",
       " 1803,\n",
       " 1826,\n",
       " 1827,\n",
       " 1832,\n",
       " 1836,\n",
       " 1837,\n",
       " 1839,\n",
       " 1840,\n",
       " 1842,\n",
       " 1847,\n",
       " 1848,\n",
       " 1853,\n",
       " 1857,\n",
       " 1861,\n",
       " 1867,\n",
       " 1868,\n",
       " 1869,\n",
       " 1870,\n",
       " 1872,\n",
       " 1873,\n",
       " 1874,\n",
       " 1875,\n",
       " 1877,\n",
       " 1878,\n",
       " 1879,\n",
       " 1881,\n",
       " 1883,\n",
       " 1884,\n",
       " 1885,\n",
       " 1886,\n",
       " 1887,\n",
       " 1888,\n",
       " 1889,\n",
       " 1890,\n",
       " 1891,\n",
       " 1892,\n",
       " 1893,\n",
       " 1894,\n",
       " 1895,\n",
       " 1896,\n",
       " 1897,\n",
       " 1898,\n",
       " 1899,\n",
       " 1900,\n",
       " 1901,\n",
       " 1902,\n",
       " 1903,\n",
       " 1905,\n",
       " 1906,\n",
       " 1907,\n",
       " 1908,\n",
       " 1909,\n",
       " 1910,\n",
       " 1911,\n",
       " 1912,\n",
       " 1914,\n",
       " 1915,\n",
       " 1918,\n",
       " 1920,\n",
       " 1921,\n",
       " 1922,\n",
       " 1923,\n",
       " 1924,\n",
       " 1925,\n",
       " 1926,\n",
       " 1927,\n",
       " 1928,\n",
       " 1929,\n",
       " 1931,\n",
       " 1932,\n",
       " 1933,\n",
       " 1934,\n",
       " 1937,\n",
       " 1939,\n",
       " 1940,\n",
       " 1941,\n",
       " 1942,\n",
       " 1943,\n",
       " 1944,\n",
       " 1945,\n",
       " 1946,\n",
       " 1947,\n",
       " 1949,\n",
       " 1950,\n",
       " 1951,\n",
       " 1952,\n",
       " 1953,\n",
       " 1954,\n",
       " 1955,\n",
       " 1956,\n",
       " 1957,\n",
       " 1958,\n",
       " 1959,\n",
       " 1960,\n",
       " 1961,\n",
       " 1962,\n",
       " 1963,\n",
       " 1964,\n",
       " 1965,\n",
       " 1966,\n",
       " 1967,\n",
       " 1968,\n",
       " 1969,\n",
       " 1971,\n",
       " 1972,\n",
       " 1973,\n",
       " 1974,\n",
       " 1975,\n",
       " 1976,\n",
       " 1977,\n",
       " 1979,\n",
       " 1980,\n",
       " 1981,\n",
       " 1982,\n",
       " 1983,\n",
       " 1984,\n",
       " 1985,\n",
       " 1986,\n",
       " 1988,\n",
       " 1989,\n",
       " 1990,\n",
       " 1991,\n",
       " 1992,\n",
       " 1993,\n",
       " 1994,\n",
       " 1995,\n",
       " 1996,\n",
       " 1997,\n",
       " 1998,\n",
       " 1999,\n",
       " 2000,\n",
       " 2002,\n",
       " 2003,\n",
       " 2004,\n",
       " 2005,\n",
       " 2006,\n",
       " 2007,\n",
       " 2008,\n",
       " 2009,\n",
       " 2010]"
      ]
     },
     "execution_count": 85,
     "metadata": {},
     "output_type": "execute_result"
    }
   ],
   "source": [
    "numbers"
   ]
  },
  {
   "cell_type": "code",
   "execution_count": null,
   "metadata": {},
   "outputs": [],
   "source": []
  }
 ],
 "metadata": {
  "kernelspec": {
   "display_name": "Python 3",
   "language": "python",
   "name": "python3"
  },
  "language_info": {
   "codemirror_mode": {
    "name": "ipython",
    "version": 3
   },
   "file_extension": ".py",
   "mimetype": "text/x-python",
   "name": "python",
   "nbconvert_exporter": "python",
   "pygments_lexer": "ipython3",
   "version": "3.7.0"
  }
 },
 "nbformat": 4,
 "nbformat_minor": 2
}
