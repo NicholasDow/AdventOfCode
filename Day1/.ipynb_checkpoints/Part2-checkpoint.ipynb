{
 "cells": [
  {
   "cell_type": "markdown",
   "metadata": {},
   "source": [
    "# Final\n",
    "I skipped draft because I split original file with work into two files, latter of which is this one. This solution is actually very different from the other one. Will add richards solution as well, with more explaination as to how and why the two work"
   ]
  },
  {
   "cell_type": "code",
   "execution_count": 5,
   "metadata": {},
   "outputs": [],
   "source": [
    "def problem1_2(n = 2020, address='input.txt'):\n",
    "    '''\n",
    "    Solves problem 1 from advent of code, is effectively two sum problem \n",
    "    \n",
    "    Improvements: Set instead of dict, and i used split lines instead of split('/n')\n",
    "    '''\n",
    "    # Reading everything in\n",
    "    text = open('input.txt', 'r').read()\n",
    "    numbers = text.splitlines()\n",
    "    numbers = list(map(int, numbers))\n",
    "    \n",
    "    # basically 3sum?\n",
    "    # nlogn\n",
    "    numbers.sort()\n",
    "    tot = 0\n",
    "    for i in range(len(numbers)-2):\n",
    "        j, k = i, len(numbers) - 1\n",
    "        while j < k:\n",
    "            tot = numbers[i] + numbers[j] + numbers[k]\n",
    "            if tot == n:\n",
    "                return numbers[i]*numbers[j]*numbers[k]\n",
    "            if tot < n:\n",
    "                j += 1\n",
    "            elif tot > n:\n",
    "                k -= 1\n",
    "    return \"fucked up\""
   ]
  },
  {
   "cell_type": "code",
   "execution_count": 4,
   "metadata": {},
   "outputs": [
    {
     "data": {
      "text/plain": [
       "128397680"
      ]
     },
     "execution_count": 4,
     "metadata": {},
     "output_type": "execute_result"
    }
   ],
   "source": [
    "problem1_2()"
   ]
  },
  {
   "cell_type": "code",
   "execution_count": null,
   "metadata": {},
   "outputs": [],
   "source": []
  }
 ],
 "metadata": {
  "kernelspec": {
   "display_name": "Python 3",
   "language": "python",
   "name": "python3"
  },
  "language_info": {
   "codemirror_mode": {
    "name": "ipython",
    "version": 3
   },
   "file_extension": ".py",
   "mimetype": "text/x-python",
   "name": "python",
   "nbconvert_exporter": "python",
   "pygments_lexer": "ipython3",
   "version": "3.7.0"
  }
 },
 "nbformat": 4,
 "nbformat_minor": 2
}
