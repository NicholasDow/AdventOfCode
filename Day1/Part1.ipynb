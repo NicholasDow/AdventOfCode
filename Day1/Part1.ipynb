{
 "cells": [
  {
   "cell_type": "markdown",
   "metadata": {},
   "source": [
    "# The Problem Draft:\n",
    "We are trying to find the two numbers in this list that add up to 2020 and find their product. The first part of this problem is the two sum problem, which we can solve with brute force or a simple hashtable."
   ]
  },
  {
   "cell_type": "code",
   "execution_count": 54,
   "metadata": {},
   "outputs": [],
   "source": [
    "text = open('input.txt', 'r')"
   ]
  },
  {
   "cell_type": "code",
   "execution_count": 55,
   "metadata": {},
   "outputs": [],
   "source": [
    "read = text.read()"
   ]
  },
  {
   "cell_type": "code",
   "execution_count": 56,
   "metadata": {},
   "outputs": [],
   "source": [
    "numbers = read.split('\\n')\n",
    "numbers.remove('')"
   ]
  },
  {
   "cell_type": "code",
   "execution_count": 57,
   "metadata": {},
   "outputs": [],
   "source": [
    "numbers = list(map(int, numbers))"
   ]
  },
  {
   "cell_type": "code",
   "execution_count": 58,
   "metadata": {},
   "outputs": [],
   "source": [
    "# Making hashtable which average O(1) look up (ty python)\n",
    "lookup = {}\n",
    "# We want 2020\n",
    "n = 2020"
   ]
  },
  {
   "cell_type": "code",
   "execution_count": 59,
   "metadata": {},
   "outputs": [
    {
     "name": "stdout",
     "output_type": "stream",
     "text": [
      "605364\n"
     ]
    }
   ],
   "source": [
    "for i, x in enumerate(numbers):\n",
    "    temp = n - x\n",
    "    if temp not in lookup:\n",
    "        lookup[x] = i\n",
    "    else:\n",
    "        print(x*temp)\n",
    "        "
   ]
  },
  {
   "cell_type": "code",
   "execution_count": 60,
   "metadata": {},
   "outputs": [
    {
     "data": {
      "text/plain": [
       "False"
      ]
     },
     "execution_count": 60,
     "metadata": {},
     "output_type": "execute_result"
    }
   ],
   "source": [
    "32 in lookup"
   ]
  },
  {
   "cell_type": "markdown",
   "metadata": {},
   "source": [
    "# Improvements and final version\n",
    "I realized that I was using a dictionary that was kindof pointless. Sets also have the O(1) look up time and none of the extra stuff we don't need for this problem"
   ]
  },
  {
   "cell_type": "code",
   "execution_count": 86,
   "metadata": {},
   "outputs": [],
   "source": [
    "def problem1_1(n = 2020, address='input.txt'):\n",
    "    '''\n",
    "    Solves problem 1 from advent of code, is effectively two sum problem \n",
    "    \n",
    "    Improvements: Set instead of dict, and i used split lines instead of split('/n')\n",
    "    '''\n",
    "    # Reading everything in\n",
    "    text = open('input.txt', 'r').read()\n",
    "    numbers = text.splitlines()\n",
    "    numbers = list(map(int, numbers))\n",
    "    \n",
    "    # 2sum with set\n",
    "    lookup = set()\n",
    "    for index, num in enumerate(numbers):\n",
    "        if n-num not in lookup:\n",
    "            lookup.add(num)\n",
    "        else:\n",
    "            return num * (n-num)"
   ]
  },
  {
   "cell_type": "code",
   "execution_count": 87,
   "metadata": {},
   "outputs": [
    {
     "data": {
      "text/plain": [
       "605364"
      ]
     },
     "execution_count": 87,
     "metadata": {},
     "output_type": "execute_result"
    }
   ],
   "source": [
    "problem1_1()"
   ]
  },
  {
   "cell_type": "code",
   "execution_count": null,
   "metadata": {},
   "outputs": [],
   "source": []
  }
 ],
 "metadata": {
  "kernelspec": {
   "display_name": "Python 3",
   "language": "python",
   "name": "python3"
  },
  "language_info": {
   "codemirror_mode": {
    "name": "ipython",
    "version": 3
   },
   "file_extension": ".py",
   "mimetype": "text/x-python",
   "name": "python",
   "nbconvert_exporter": "python",
   "pygments_lexer": "ipython3",
   "version": "3.7.0"
  }
 },
 "nbformat": 4,
 "nbformat_minor": 2
}
