{
 "cells": [
  {
   "cell_type": "markdown",
   "metadata": {},
   "source": [
    "# Final and Reflection\n",
    "\n",
    "Yesterday matt and richard beat me, despite me having a lead on the first problem. A single bug ended up costing me 2 hours."
   ]
  },
  {
   "cell_type": "markdown",
   "metadata": {},
   "source": [
    "#### Error\n",
    "My error can be pinned down to two things:\n",
    "\n",
    "1. I did not know '1234'.islower() would return False and that 'a1234'.islower() would return True. \n",
    "\n",
    "2. My code was **unorganized** so it was hard to systematically bug check each part. "
   ]
  },
  {
   "cell_type": "markdown",
   "metadata": {},
   "source": [
    "#### Try Next Time\n",
    "my unorganized code was a result of rushing, and next time I will start by being organized. If I could do this problem again I would make each checking a function in the order requested by the problem. When I came across an error I would\n",
    "\n",
    "1. Do one read over to make sure it isn't something that is obvious to me\n",
    "\n",
    "2. Print the True output for each function separately\n",
    "\n",
    "3. Print the False output for each function separately\n",
    "\n",
    "4. Go back to begining and repeat more slowly while reading the directions more carefully\n",
    "\n",
    "If I had done this I would have systematically arrived at the conclusion that I was missing correct answers and that the answers were hexidecimal rather than 1-9a-z."
   ]
  },
  {
   "cell_type": "markdown",
   "metadata": {},
   "source": [
    "#### Solution\n",
    "I finally got the right answer when I rewrote the hair function in color hexidecimal detecting regex. But it took me 2.25 hours to finish day 4 when I was a few lines away from finishing around 25 mins\n"
   ]
  },
  {
   "cell_type": "code",
   "execution_count": 1,
   "metadata": {},
   "outputs": [],
   "source": [
    "import re"
   ]
  },
  {
   "cell_type": "code",
   "execution_count": 7,
   "metadata": {},
   "outputs": [],
   "source": [
    "def list_to_dict(li):\n",
    "    return dict(e.split(':') for e in li)"
   ]
  },
  {
   "cell_type": "code",
   "execution_count": 8,
   "metadata": {},
   "outputs": [],
   "source": [
    "def remove_spaces(li):\n",
    "    while(\"\" in li) : \n",
    "        li.remove(\"\") \n",
    "    return li"
   ]
  },
  {
   "cell_type": "code",
   "execution_count": 9,
   "metadata": {},
   "outputs": [],
   "source": [
    "def read_input(filename):\n",
    "    with open(filename) as f:\n",
    "        input = f.read()\n",
    "        input = input.split('\\n\\n')\n",
    "        input = [passport.replace('\\n', ' ') for passport in input]\n",
    "        input = [passport.split(' ') for passport in input]\n",
    "        input = [remove_spaces(passport) for passport in input]\n",
    "        dictfile = [list_to_dict(passport) for passport in input]\n",
    "        return dictfile"
   ]
  },
  {
   "cell_type": "markdown",
   "metadata": {},
   "source": [
    "# Part 1"
   ]
  },
  {
   "cell_type": "code",
   "execution_count": 14,
   "metadata": {},
   "outputs": [],
   "source": [
    "def problem4_1():\n",
    "    count = 0\n",
    "    dictfile = read_input('input.txt')\n",
    "    for passport in dictfile:\n",
    "        if set(['byr','iyr','eyr','hgt','hcl','ecl','pid']).issubset(set(passport.keys())):\n",
    "            count += 1\n",
    "    print(count)"
   ]
  },
  {
   "cell_type": "code",
   "execution_count": 15,
   "metadata": {},
   "outputs": [
    {
     "name": "stdout",
     "output_type": "stream",
     "text": [
      "237\n"
     ]
    }
   ],
   "source": [
    "problem4_1()"
   ]
  },
  {
   "cell_type": "markdown",
   "metadata": {},
   "source": [
    "# Part 2"
   ]
  },
  {
   "cell_type": "code",
   "execution_count": 25,
   "metadata": {},
   "outputs": [],
   "source": [
    "def problem4_1():\n",
    "    def birth(byr):\n",
    "        minage = 1920 <= int(byr)\n",
    "        maxage = 2002 >= int(byr)\n",
    "        length = len(byr) == 4\n",
    "        return minage and maxage and length\n",
    "    def issue(iyr):\n",
    "        min = 2010 <= int(iyr)\n",
    "        max = 2020 >= int(iyr)\n",
    "        length = len(iyr) == 4\n",
    "        return min and max and length\n",
    "    def expiration(eyr):\n",
    "        min = 2020 <= int(eyr)\n",
    "        max = 2030 >= int(eyr)\n",
    "        length = len(eyr) == 4\n",
    "        return min and max and length        \n",
    "    def height(hgt):\n",
    "        if hgt[-2:] == 'cm':\n",
    "            hgt = int(hgt[:-2])\n",
    "            return (hgt >= 150) and (hgt <= 193)\n",
    "        if hgt[-2:] == 'in':\n",
    "            hgt = int(hgt[:-2])\n",
    "            return (hgt >= 59) and (hgt <= 76)\n",
    "        else:\n",
    "            return False        \n",
    "    def hair(hcl):\n",
    "        return hcl[0] == '#' and len(hcl) == 7 and re.search('(?:[0-9a-f]+)$', hcl[1:])\n",
    "    def eye(ecl):\n",
    "        return ecl in ['amb','blu','brn','gry','grn','hzl','oth']\n",
    "    def passportid(pid):\n",
    "        return len(pid) == 9 and pid.isdigit()\n",
    "    count = 0\n",
    "    dictfile = read_input('input.txt')\n",
    "    for passport in dictfile:\n",
    "        if set(['byr','iyr','eyr','hgt','hcl','ecl','pid']).issubset(set(passport.keys())):\n",
    "            if birth(passport['byr']) and issue(passport['iyr']) and expiration(passport['eyr']) and height(passport['hgt']) and hair(passport['hcl']) and eye(passport['ecl']) and passportid(passport['pid']):\n",
    "                count += 1\n",
    "    print(count)"
   ]
  },
  {
   "cell_type": "code",
   "execution_count": 24,
   "metadata": {},
   "outputs": [
    {
     "name": "stdout",
     "output_type": "stream",
     "text": [
      "14\n"
     ]
    }
   ],
   "source": [
    "problem4_1()"
   ]
  },
  {
   "cell_type": "code",
   "execution_count": null,
   "metadata": {},
   "outputs": [],
   "source": []
  }
 ],
 "metadata": {
  "kernelspec": {
   "display_name": "Python 3",
   "language": "python",
   "name": "python3"
  },
  "language_info": {
   "codemirror_mode": {
    "name": "ipython",
    "version": 3
   },
   "file_extension": ".py",
   "mimetype": "text/x-python",
   "name": "python",
   "nbconvert_exporter": "python",
   "pygments_lexer": "ipython3",
   "version": "3.7.0"
  }
 },
 "nbformat": 4,
 "nbformat_minor": 2
}
