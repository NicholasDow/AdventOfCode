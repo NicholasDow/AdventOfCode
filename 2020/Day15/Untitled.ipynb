{
 "cells": [
  {
   "cell_type": "code",
   "execution_count": 17,
   "metadata": {},
   "outputs": [],
   "source": [
    "numbers = []\n",
    "\n",
    "init = [1,0,18,10,19,6]\n",
    "counter = 0\n",
    "while counter != 2020:\n",
    "    if counter < 6: \n",
    "        numbers.append(init[counter])\n",
    "    else:\n",
    "        part = numbers[:-1]\n",
    "        if numbers[-1] in numbers[:-1]:\n",
    "            lindex = len(part) - 1 - part[::-1].index(numbers[-1])\n",
    "            llindex = len(numbers) -1\n",
    "            numbers.append(llindex - lindex)\n",
    "        else:\n",
    "            numbers.append(0)\n",
    "    counter +=1\n"
   ]
  },
  {
   "cell_type": "code",
   "execution_count": 18,
   "metadata": {},
   "outputs": [
    {
     "data": {
      "text/plain": [
       "441"
      ]
     },
     "execution_count": 18,
     "metadata": {},
     "output_type": "execute_result"
    }
   ],
   "source": [
    "numbers[-1]"
   ]
  },
  {
   "cell_type": "code",
   "execution_count": 7,
   "metadata": {},
   "outputs": [
    {
     "data": {
      "text/plain": [
       "0"
      ]
     },
     "execution_count": 7,
     "metadata": {},
     "output_type": "execute_result"
    }
   ],
   "source": [
    "li.index(2)"
   ]
  },
  {
   "cell_type": "code",
   "execution_count": 8,
   "metadata": {},
   "outputs": [
    {
     "data": {
      "text/plain": [
       "[2, 1, 4, 3, 2, 1]"
      ]
     },
     "execution_count": 8,
     "metadata": {},
     "output_type": "execute_result"
    }
   ],
   "source": [
    "li"
   ]
  },
  {
   "cell_type": "code",
   "execution_count": null,
   "metadata": {},
   "outputs": [],
   "source": [
    "numbers = []\n",
    "\n",
    "init = [1,0,18,10,19,6]\n",
    "counter = 0\n",
    "while counter != 30000000:\n",
    "    if counter < 6: \n",
    "        numbers.append(init[counter])\n",
    "    else:\n",
    "        part = numbers[:-1]\n",
    "        if numbers[-1] in numbers[:-1]:\n",
    "            lindex = len(part) - 1 - part[::-1].index(numbers[-1])\n",
    "            llindex = len(numbers) -1\n",
    "            numbers.append(llindex - lindex)\n",
    "        else:\n",
    "            numbers.append(0)\n",
    "    counter +=1"
   ]
  },
  {
   "cell_type": "code",
   "execution_count": null,
   "metadata": {},
   "outputs": [],
   "source": []
  },
  {
   "cell_type": "markdown",
   "metadata": {},
   "source": [
    "# .Index makes O(n^2) like that, need to use hash"
   ]
  },
  {
   "cell_type": "code",
   "execution_count": null,
   "metadata": {},
   "outputs": [],
   "source": []
  },
  {
   "cell_type": "code",
   "execution_count": null,
   "metadata": {},
   "outputs": [],
   "source": [
    "numbers = []\n",
    "\n",
    "init = [1,0,18,10,19,6]\n",
    "counter = 0\n",
    "while counter != 30000000:\n",
    "    if counter < 6: \n",
    "        numbers.append(init[counter])\n",
    "    else:\n",
    "        part = numbers[:-1]\n",
    "        if numbers[-1] in numbers[:-1]:\n",
    "            lindex = len(part) - 1 - part[::-1].index(numbers[-1])\n",
    "            llindex = len(numbers) -1\n",
    "            numbers.append(llindex - lindex)\n",
    "        else:\n",
    "            numbers.append(0)\n",
    "    counter +=1"
   ]
  },
  {
   "cell_type": "code",
   "execution_count": 1,
   "metadata": {},
   "outputs": [
    {
     "name": "stdout",
     "output_type": "stream",
     "text": [
      "10613991\n"
     ]
    }
   ],
   "source": [
    "steps, ns = 30000000, [1,0,18,10,19,6]\n",
    "last, c = ns[-1], {n: i for i, n in enumerate(ns)}\n",
    "#c must be a dict inorder for there to be a hash function\n",
    "for i in range(len(ns) - 1, steps - 1):\n",
    "    c[last], last = i, i - c.get(last, i)\n",
    "print(last)"
   ]
  },
  {
   "cell_type": "code",
   "execution_count": 2,
   "metadata": {},
   "outputs": [
    {
     "data": {
      "text/plain": [
       "dict"
      ]
     },
     "execution_count": 2,
     "metadata": {},
     "output_type": "execute_result"
    }
   ],
   "source": [
    "type(c)"
   ]
  },
  {
   "cell_type": "code",
   "execution_count": null,
   "metadata": {},
   "outputs": [],
   "source": []
  }
 ],
 "metadata": {
  "kernelspec": {
   "display_name": "Python 3",
   "language": "python",
   "name": "python3"
  },
  "language_info": {
   "codemirror_mode": {
    "name": "ipython",
    "version": 3
   },
   "file_extension": ".py",
   "mimetype": "text/x-python",
   "name": "python",
   "nbconvert_exporter": "python",
   "pygments_lexer": "ipython3",
   "version": "3.7.0"
  }
 },
 "nbformat": 4,
 "nbformat_minor": 2
}
