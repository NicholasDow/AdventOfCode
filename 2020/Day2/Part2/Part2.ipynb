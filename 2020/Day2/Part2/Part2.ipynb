{
 "cells": [
  {
   "cell_type": "markdown",
   "metadata": {},
   "source": [
    "# Draft"
   ]
  },
  {
   "cell_type": "code",
   "execution_count": 1,
   "metadata": {},
   "outputs": [],
   "source": [
    "import re"
   ]
  },
  {
   "cell_type": "code",
   "execution_count": 2,
   "metadata": {},
   "outputs": [],
   "source": [
    "text = open('input.txt', 'r')\n",
    "passwords = text.readlines()\n",
    "passwords = [x.strip('\\n') for x in passwords]"
   ]
  },
  {
   "cell_type": "code",
   "execution_count": 3,
   "metadata": {},
   "outputs": [
    {
     "data": {
      "text/plain": [
       "605"
      ]
     },
     "execution_count": 3,
     "metadata": {},
     "output_type": "execute_result"
    }
   ],
   "source": [
    "li = []\n",
    "for password in passwords:\n",
    "    minimum = re.search('(\\d+)[-]', password).group(1)\n",
    "    maximum = re.search('[-](\\d+)',password).group(1)\n",
    "    letter = re.search('(\\w)[:]', password).group(1)\n",
    "    actualpassword = re.search('[:] (\\w+)', password).group(1)\n",
    "    \n",
    "    first = actualpassword[int(minimum)-1] == letter\n",
    "    second = actualpassword[int(maximum)-1] == letter\n",
    "    li.append(first != second)\n",
    "sum(li)"
   ]
  },
  {
   "cell_type": "markdown",
   "metadata": {},
   "source": [
    "# Final"
   ]
  },
  {
   "cell_type": "code",
   "execution_count": 4,
   "metadata": {},
   "outputs": [],
   "source": [
    "def problem2_2(file = 'input.txt'):\n",
    "    # Opening and wrangling the file\n",
    "    text = open('input.txt', 'r')\n",
    "    passwords = text.readlines()\n",
    "    passwords = [x.strip('\\n') for x in passwords]\n",
    "    # Code\n",
    "    li = []\n",
    "    # Check every password\n",
    "    for password in passwords:\n",
    "        # Extract important info with regex\n",
    "        minimum = re.search('(\\d+)[-]', password).group(1)\n",
    "        maximum = re.search('[-](\\d+)',password).group(1)\n",
    "        letter = re.search('(\\w)[:]', password).group(1)\n",
    "        actualpassword = re.search('[:] (\\w+)', password).group(1)\n",
    "        \n",
    "        # Check both conditions and xor\n",
    "        first = actualpassword[int(minimum)-1] == letter\n",
    "        second = actualpassword[int(maximum)-1] == letter\n",
    "        li.append(first != second)\n",
    "    return sum(li)"
   ]
  },
  {
   "cell_type": "code",
   "execution_count": 5,
   "metadata": {},
   "outputs": [
    {
     "data": {
      "text/plain": [
       "605"
      ]
     },
     "execution_count": 5,
     "metadata": {},
     "output_type": "execute_result"
    }
   ],
   "source": [
    "problem2_2()"
   ]
  }
 ],
 "metadata": {
  "kernelspec": {
   "display_name": "Python 3",
   "language": "python",
   "name": "python3"
  },
  "language_info": {
   "codemirror_mode": {
    "name": "ipython",
    "version": 3
   },
   "file_extension": ".py",
   "mimetype": "text/x-python",
   "name": "python",
   "nbconvert_exporter": "python",
   "pygments_lexer": "ipython3",
   "version": "3.7.0"
  }
 },
 "nbformat": 4,
 "nbformat_minor": 2
}
