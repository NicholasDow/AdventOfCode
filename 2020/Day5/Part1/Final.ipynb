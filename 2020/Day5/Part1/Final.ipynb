{
 "cells": [
  {
   "cell_type": "markdown",
   "metadata": {},
   "source": [
    "# Final\n",
    "Quick combined final"
   ]
  },
  {
   "cell_type": "code",
   "execution_count": 7,
   "metadata": {},
   "outputs": [],
   "source": [
    "def read_input(filename):\n",
    "    with open(filename) as file:\n",
    "        boardingPasses = file.readlines()\n",
    "        boardingPassesWithoutN = [board.strip() for board in boardingPasses]\n",
    "        binaryBoard = [board.replace('F', '0').replace('B','1')\\\n",
    "                       .replace('R','1').replace('L','0') for board in boardingPassesWithoutN]\n",
    "        idNumbers = [int(board[:-3],2)*8 + int(board[-3:],2) for board in binaryBoard]\n",
    "        return idNumbers"
   ]
  },
  {
   "cell_type": "code",
   "execution_count": 8,
   "metadata": {},
   "outputs": [],
   "source": [
    "def problem5_1():\n",
    "    idList = read_input('input.txt')\n",
    "    print(max(idList))"
   ]
  },
  {
   "cell_type": "code",
   "execution_count": 9,
   "metadata": {},
   "outputs": [
    {
     "name": "stdout",
     "output_type": "stream",
     "text": [
      "915\n"
     ]
    }
   ],
   "source": [
    "problem5_1()"
   ]
  },
  {
   "cell_type": "code",
   "execution_count": 10,
   "metadata": {},
   "outputs": [],
   "source": [
    "def find_missing(lst):\n",
    "    return [x for x in range(lst[0], lst[-1]+1) \n",
    "                               if x not in lst]"
   ]
  },
  {
   "cell_type": "code",
   "execution_count": 12,
   "metadata": {},
   "outputs": [],
   "source": [
    "def problem5_2():\n",
    "    idList = read_input('input.txt')\n",
    "    idList.sort()\n",
    "    print(find_missing(idList))"
   ]
  },
  {
   "cell_type": "code",
   "execution_count": 13,
   "metadata": {},
   "outputs": [
    {
     "name": "stdout",
     "output_type": "stream",
     "text": [
      "[699]\n"
     ]
    }
   ],
   "source": [
    "problem5_2()"
   ]
  },
  {
   "cell_type": "code",
   "execution_count": null,
   "metadata": {},
   "outputs": [],
   "source": []
  }
 ],
 "metadata": {
  "kernelspec": {
   "display_name": "Python 3",
   "language": "python",
   "name": "python3"
  },
  "language_info": {
   "codemirror_mode": {
    "name": "ipython",
    "version": 3
   },
   "file_extension": ".py",
   "mimetype": "text/x-python",
   "name": "python",
   "nbconvert_exporter": "python",
   "pygments_lexer": "ipython3",
   "version": "3.7.0"
  }
 },
 "nbformat": 4,
 "nbformat_minor": 2
}
