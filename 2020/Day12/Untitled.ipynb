{
 "cells": [
  {
   "cell_type": "code",
   "execution_count": 19,
   "metadata": {},
   "outputs": [],
   "source": [
    "file = open('input.txt').readlines()"
   ]
  },
  {
   "cell_type": "code",
   "execution_count": 20,
   "metadata": {},
   "outputs": [],
   "source": [
    "file = [i.strip() for i in file]"
   ]
  },
  {
   "cell_type": "code",
   "execution_count": 21,
   "metadata": {},
   "outputs": [],
   "source": [
    "direction = 'E'"
   ]
  },
  {
   "cell_type": "code",
   "execution_count": 22,
   "metadata": {},
   "outputs": [],
   "source": [
    "right = ['E','S','W','N']\n",
    "left = ['E','N','W','S']"
   ]
  },
  {
   "cell_type": "code",
   "execution_count": 23,
   "metadata": {},
   "outputs": [],
   "source": [
    "X = 0\n",
    "Y = 0"
   ]
  },
  {
   "cell_type": "code",
   "execution_count": 24,
   "metadata": {},
   "outputs": [],
   "source": [
    "W_x = 10\n",
    "W_y = 1"
   ]
  },
  {
   "cell_type": "code",
   "execution_count": 25,
   "metadata": {},
   "outputs": [],
   "source": [
    "for command in file:\n",
    "    action = command[:1]\n",
    "    degree = int(command[1:])\n",
    "    if action == 'N':\n",
    "        W_y += degree\n",
    "    elif action == 'S':\n",
    "        W_y -= degree\n",
    "    elif action == 'E':\n",
    "        W_x += degree\n",
    "    elif action == 'W':\n",
    "        W_x -= degree\n",
    "    elif action == 'L':\n",
    "        rot = int(degree/90)\n",
    "        if rot == 1:\n",
    "            W_x, W_y = -1*W_y, W_x\n",
    "        elif rot == 2:\n",
    "            W_x, W_y = -1*W_x, -1*W_y\n",
    "        elif rot == 3:\n",
    "            W_x, W_y = W_y, -1*W_x\n",
    "    elif action == 'R':\n",
    "        rot = int(degree/90)\n",
    "        if rot == 3:\n",
    "            W_x, W_y = -1*W_y, W_x\n",
    "        elif rot == 2:\n",
    "            W_x, W_y = -1*W_x, -1*W_y\n",
    "        elif rot == 1:\n",
    "            W_x, W_y = W_y, -1*W_x\n",
    "    elif action == 'F':\n",
    "        X += degree*W_x\n",
    "        Y += degree*W_y"
   ]
  },
  {
   "cell_type": "code",
   "execution_count": 26,
   "metadata": {},
   "outputs": [
    {
     "data": {
      "text/plain": [
       "42495"
      ]
     },
     "execution_count": 26,
     "metadata": {},
     "output_type": "execute_result"
    }
   ],
   "source": [
    "abs(X)+abs(Y)"
   ]
  },
  {
   "cell_type": "code",
   "execution_count": null,
   "metadata": {},
   "outputs": [],
   "source": []
  }
 ],
 "metadata": {
  "kernelspec": {
   "display_name": "Python 3",
   "language": "python",
   "name": "python3"
  },
  "language_info": {
   "codemirror_mode": {
    "name": "ipython",
    "version": 3
   },
   "file_extension": ".py",
   "mimetype": "text/x-python",
   "name": "python",
   "nbconvert_exporter": "python",
   "pygments_lexer": "ipython3",
   "version": "3.7.0"
  }
 },
 "nbformat": 4,
 "nbformat_minor": 2
}
