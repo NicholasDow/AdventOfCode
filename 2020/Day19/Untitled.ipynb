{
 "cells": [
  {
   "cell_type": "code",
   "execution_count": 1,
   "metadata": {},
   "outputs": [],
   "source": [
    "with open('input.txt') as f:\n",
    "    file = f.readlines()"
   ]
  },
  {
   "cell_type": "code",
   "execution_count": 2,
   "metadata": {},
   "outputs": [],
   "source": [
    "file = [i.strip() for i in file]"
   ]
  },
  {
   "cell_type": "code",
   "execution_count": 3,
   "metadata": {},
   "outputs": [],
   "source": [
    "import re"
   ]
  },
  {
   "cell_type": "code",
   "execution_count": 4,
   "metadata": {},
   "outputs": [],
   "source": [
    "reg = re.compile(r'^[a|b]')"
   ]
  },
  {
   "cell_type": "code",
   "execution_count": 5,
   "metadata": {},
   "outputs": [],
   "source": [
    "to_be_tested = set(filter(reg.search, file))"
   ]
  },
  {
   "cell_type": "code",
   "execution_count": 6,
   "metadata": {},
   "outputs": [],
   "source": [
    "rules = set(file) - to_be_tested"
   ]
  },
  {
   "cell_type": "code",
   "execution_count": 7,
   "metadata": {},
   "outputs": [],
   "source": [
    "rules.remove('')"
   ]
  },
  {
   "cell_type": "code",
   "execution_count": 8,
   "metadata": {},
   "outputs": [],
   "source": [
    "rules = dict([rule.split(': ', 1) for rule in rules])"
   ]
  },
  {
   "cell_type": "code",
   "execution_count": 9,
   "metadata": {},
   "outputs": [],
   "source": [
    "to_be_tested = list(to_be_tested)"
   ]
  },
  {
   "cell_type": "code",
   "execution_count": 10,
   "metadata": {},
   "outputs": [],
   "source": [
    "# kill me\n",
    "new_rules = {}"
   ]
  },
  {
   "cell_type": "code",
   "execution_count": 11,
   "metadata": {},
   "outputs": [],
   "source": [
    "for key, value in rules.items():\n",
    "    new_rules[key] = [j.split(' ') for j in [i for i in value.split(' | ')]]\n"
   ]
  },
  {
   "cell_type": "code",
   "execution_count": 12,
   "metadata": {},
   "outputs": [],
   "source": [
    "# Ok, it wasn't working because in the dict it was '\"a\"', fml\n",
    "new_rules['5'] = 'a'\n",
    "new_rules['92'] = 'b'"
   ]
  },
  {
   "cell_type": "code",
   "execution_count": null,
   "metadata": {},
   "outputs": [],
   "source": [
    "# so this code is loop proof???"
   ]
  },
  {
   "cell_type": "markdown",
   "metadata": {},
   "source": [
    "# My understanding of this code\n",
    "\n",
    "\n",
    "basically the code\n",
    "1. looks up the rule '0' to see if it works for this string\n",
    "2. If the rule that is being looked up doesn't pop out a string, but more rules. It will put them into a function that will yeild the two optional cases\n",
    "3. this function will yeild all the options from run's of the sequence\n",
    "4. the runs of the sequence will take the first rule and run what wasn't taken out from the first string via that rule, then it will run the second part\n",
    "5. The base case of the look up function actually takes characters out of the string. What it does is when the rule maps to a character it will check to see if it matches the position in the string. POSITIONALITY IS LOCATED IN THE REMOVAL PROCESS IN LOOK UP. this \"movement backwards\" allows for loops \n",
    "6. The way that this YIELD FROM code works is analogous to a the rivers in a delta. \n",
    "What I mean by that is you start at one point and it breaks into many small streams. and at the end you return all of the streams. If one of the streams matches your condition it returns true\n",
    "## The key to understanding this code is to understand the base cases"
   ]
  },
  {
   "cell_type": "code",
   "execution_count": 30,
   "metadata": {
    "scrolled": false
   },
   "outputs": [],
   "source": [
    "def run_seq(g, seq, s):\n",
    "    if not seq:\n",
    "        yield s\n",
    "    else:\n",
    "        k, *seq = seq\n",
    "        for s in lookup_k(g, k, s):\n",
    "            yield from run_seq(g, seq, s)\n",
    "\n",
    "def choose_between_two(g, alt, s):\n",
    "    for seq in alt:\n",
    "        yield from run_seq(g, seq, s)\n",
    "\n",
    "def lookup_k(g, k, s):\n",
    "    if not isinstance(g[k], str):\n",
    "        yield from choose_between_two(g, g[k], s)\n",
    "    else:\n",
    "        if s and s[0] == g[k]:\n",
    "            yield s[1:]\n",
    "\n",
    "def match(g, s):\n",
    "    return any(m == '' for m in lookup_k(g, '0', s))"
   ]
  },
  {
   "cell_type": "code",
   "execution_count": 31,
   "metadata": {},
   "outputs": [
    {
     "data": {
      "text/plain": [
       "285"
      ]
     },
     "execution_count": 31,
     "metadata": {},
     "output_type": "execute_result"
    }
   ],
   "source": [
    "sum(match(new_rules, s) for s in to_be_tested)"
   ]
  },
  {
   "cell_type": "code",
   "execution_count": 34,
   "metadata": {},
   "outputs": [],
   "source": [
    "new_rules['8'] = [['42'],['42','8']]\n",
    "new_rules['11'] = [['42', '31'], ['42','11','31']]"
   ]
  },
  {
   "cell_type": "code",
   "execution_count": 35,
   "metadata": {},
   "outputs": [
    {
     "data": {
      "text/plain": [
       "412"
      ]
     },
     "execution_count": 35,
     "metadata": {},
     "output_type": "execute_result"
    }
   ],
   "source": [
    "sum(match(new_rules, s) for s in to_be_tested)"
   ]
  },
  {
   "cell_type": "code",
   "execution_count": null,
   "metadata": {},
   "outputs": [],
   "source": []
  }
 ],
 "metadata": {
  "kernelspec": {
   "display_name": "Python 3",
   "language": "python",
   "name": "python3"
  },
  "language_info": {
   "codemirror_mode": {
    "name": "ipython",
    "version": 3
   },
   "file_extension": ".py",
   "mimetype": "text/x-python",
   "name": "python",
   "nbconvert_exporter": "python",
   "pygments_lexer": "ipython3",
   "version": "3.7.0"
  }
 },
 "nbformat": 4,
 "nbformat_minor": 2
}
