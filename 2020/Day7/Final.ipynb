{
 "cells": [
  {
   "cell_type": "markdown",
   "metadata": {},
   "source": [
    "# Oh my god I didn't use a graph and dfs like a dumbass"
   ]
  },
  {
   "cell_type": "code",
   "execution_count": 1,
   "metadata": {},
   "outputs": [],
   "source": [
    "from collections import defaultdict"
   ]
  },
  {
   "cell_type": "code",
   "execution_count": 3,
   "metadata": {},
   "outputs": [],
   "source": [
    "with open('input.txt','r') as f:\n",
    "    lines = f.read().splitlines()"
   ]
  },
  {
   "cell_type": "code",
   "execution_count": 4,
   "metadata": {},
   "outputs": [],
   "source": [
    "bag_graph = defaultdict(list)"
   ]
  },
  {
   "cell_type": "code",
   "execution_count": 14,
   "metadata": {},
   "outputs": [
    {
     "name": "stdout",
     "output_type": "stream",
     "text": [
      "101\n"
     ]
    }
   ],
   "source": [
    "for line in lines:\n",
    "    outer_bags, inner_bags = line.split(' bags contain ')\n",
    "    inner_bags = \"\".join(c for c in inner_bags if not c.isdigit())\n",
    "    inner_bags = inner_bags.replace(\".\",\"\").split(\", \")\n",
    "    inner_bags = [\n",
    "        bag.replace(\" bags\",\"\").replace(\" bag\",\"\").strip() for bag in inner_bags\n",
    "    ]\n",
    "    [bag_graph[inner_bag].append(outer_bags) for inner_bag in inner_bags]\n",
    "\n",
    "# dfs\n",
    "\n",
    "visited = set()\n",
    "stack = ['shiny gold']\n",
    "\n",
    "while stack:\n",
    "    node = stack.pop()\n",
    "    visited.add(node)\n",
    "    stack.extend(bag_graph[node])\n",
    "print(len(visited) - 1)"
   ]
  },
  {
   "cell_type": "code",
   "execution_count": null,
   "metadata": {},
   "outputs": [],
   "source": []
  }
 ],
 "metadata": {
  "kernelspec": {
   "display_name": "Python 3",
   "language": "python",
   "name": "python3"
  },
  "language_info": {
   "codemirror_mode": {
    "name": "ipython",
    "version": 3
   },
   "file_extension": ".py",
   "mimetype": "text/x-python",
   "name": "python",
   "nbconvert_exporter": "python",
   "pygments_lexer": "ipython3",
   "version": "3.7.0"
  }
 },
 "nbformat": 4,
 "nbformat_minor": 2
}
