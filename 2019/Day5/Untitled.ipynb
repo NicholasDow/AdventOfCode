{
 "cells": [
  {
   "cell_type": "code",
   "execution_count": 1,
   "metadata": {},
   "outputs": [],
   "source": [
    "with open('input.txt') as f:\n",
    "    file = f.read().strip().split(',')"
   ]
  },
  {
   "cell_type": "code",
   "execution_count": 2,
   "metadata": {},
   "outputs": [],
   "source": [
    "pos = 0\n",
    "last_pos = len(file)"
   ]
  },
  {
   "cell_type": "code",
   "execution_count": 3,
   "metadata": {},
   "outputs": [],
   "source": [
    "def pos_or_imed(A,pos):\n",
    "    # This returns the pointer to the position that you want to take from\n",
    "    if A:\n",
    "        return int(file[pos])\n",
    "    else:\n",
    "        return int(file[int(file[pos])])"
   ]
  },
  {
   "cell_type": "code",
   "execution_count": 4,
   "metadata": {},
   "outputs": [],
   "source": [
    "def deconstruct_command(command):\n",
    "    while command:\n",
    "        if len(command) > 2:\n",
    "            first, *command = command\n",
    "            yield int(first)\n",
    "        else:\n",
    "            break\n",
    "    yield int(''.join(command))"
   ]
  },
  {
   "cell_type": "code",
   "execution_count": 5,
   "metadata": {},
   "outputs": [
    {
     "data": {
      "text/plain": [
       "[1, 1, 1, 2]"
      ]
     },
     "execution_count": 5,
     "metadata": {},
     "output_type": "execute_result"
    }
   ],
   "source": [
    "list(deconstruct_command('11102'))"
   ]
  },
  {
   "cell_type": "code",
   "execution_count": 6,
   "metadata": {},
   "outputs": [],
   "source": [
    "def unpack(command, n):\n",
    "    for i in range(n):\n",
    "        if command:\n",
    "            *command, A = command\n",
    "            yield int(A)\n",
    "        else:\n",
    "            yield 0"
   ]
  },
  {
   "cell_type": "code",
   "execution_count": 7,
   "metadata": {},
   "outputs": [
    {
     "data": {
      "text/plain": [
       "[0, 0, 0]"
      ]
     },
     "execution_count": 7,
     "metadata": {},
     "output_type": "execute_result"
    }
   ],
   "source": [
    "list(unpack(list(deconstruct_command('1'))[:-1], 3))"
   ]
  },
  {
   "cell_type": "code",
   "execution_count": 8,
   "metadata": {},
   "outputs": [
    {
     "name": "stdout",
     "output_type": "stream",
     "text": [
      "rep?\n",
      "rep?\n",
      "rep?\n",
      "0\n"
     ]
    }
   ],
   "source": [
    "while pos < last_pos:\n",
    "    print(\"rep?\")\n",
    "    command = file[pos]\n",
    "    command = list(deconstruct_command(command))\n",
    "    *command, DE = command\n",
    "    if DE == 1:\n",
    "        command = list(unpack(command, 3))\n",
    "        C = pos_or_imed(command[0], pos+1)\n",
    "        B = pos_or_imed(command[1], pos+2)\n",
    "        A = pos_or_imed(command[2], pos+2)\n",
    "        A = C+B\n",
    "        pos += 4\n",
    "    elif DE == 2:\n",
    "        command = list(unpack(command, 3))\n",
    "        C = pos_or_imed(command[0], pos+1)\n",
    "        B = pos_or_imed(command[1], pos+2)\n",
    "        A = pos_or_imed(command[2], pos+2)\n",
    "        A = C*B\n",
    "        pos += 4\n",
    "    elif DE == 3:\n",
    "        C = file[pos+1]\n",
    "        file[int(C)] = 1\n",
    "        pos += 2\n",
    "    elif DE == 4:\n",
    "        print(file[int(file[pos+1])])\n",
    "        pos += 2\n",
    "    else:\n",
    "        print(DE)\n",
    "        break"
   ]
  },
  {
   "cell_type": "code",
   "execution_count": null,
   "metadata": {},
   "outputs": [],
   "source": []
  },
  {
   "cell_type": "code",
   "execution_count": null,
   "metadata": {},
   "outputs": [],
   "source": []
  }
 ],
 "metadata": {
  "kernelspec": {
   "display_name": "Python 3",
   "language": "python",
   "name": "python3"
  },
  "language_info": {
   "codemirror_mode": {
    "name": "ipython",
    "version": 3
   },
   "file_extension": ".py",
   "mimetype": "text/x-python",
   "name": "python",
   "nbconvert_exporter": "python",
   "pygments_lexer": "ipython3",
   "version": "3.7.0"
  }
 },
 "nbformat": 4,
 "nbformat_minor": 2
}
