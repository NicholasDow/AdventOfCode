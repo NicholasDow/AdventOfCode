{
 "cells": [
  {
   "cell_type": "code",
   "execution_count": 15,
   "metadata": {},
   "outputs": [],
   "source": [
    "with open('input.txt') as f:\n",
    "    file = f.read().strip().split(',')"
   ]
  },
  {
   "cell_type": "code",
   "execution_count": 16,
   "metadata": {},
   "outputs": [],
   "source": [
    "pos = 0\n",
    "last_pos = len(file)"
   ]
  },
  {
   "cell_type": "code",
   "execution_count": 17,
   "metadata": {},
   "outputs": [],
   "source": [
    "def pos_or_imed(A,pos):\n",
    "    # This returns the pointer to the position that you want to take from\n",
    "    if A == 1:\n",
    "        return int(file[pos])\n",
    "    else:\n",
    "        return int(file[int(file[pos])])"
   ]
  },
  {
   "cell_type": "code",
   "execution_count": 18,
   "metadata": {},
   "outputs": [],
   "source": [
    "def deconstruct_command(command):\n",
    "    while command:\n",
    "        if len(command) > 2:\n",
    "            first, *command = command\n",
    "            yield int(first)\n",
    "        else:\n",
    "            break\n",
    "    yield int(''.join(command))"
   ]
  },
  {
   "cell_type": "code",
   "execution_count": 19,
   "metadata": {},
   "outputs": [
    {
     "data": {
      "text/plain": [
       "[1, 1, 1, 2]"
      ]
     },
     "execution_count": 19,
     "metadata": {},
     "output_type": "execute_result"
    }
   ],
   "source": [
    "list(deconstruct_command('11102'))"
   ]
  },
  {
   "cell_type": "code",
   "execution_count": 20,
   "metadata": {},
   "outputs": [],
   "source": [
    "def unpack(command, n):\n",
    "    for i in range(n):\n",
    "        if command:\n",
    "            *command, A = command\n",
    "            yield int(A)\n",
    "        else:\n",
    "            yield 0"
   ]
  },
  {
   "cell_type": "code",
   "execution_count": 21,
   "metadata": {},
   "outputs": [
    {
     "data": {
      "text/plain": [
       "[0, 0, 0]"
      ]
     },
     "execution_count": 21,
     "metadata": {},
     "output_type": "execute_result"
    }
   ],
   "source": [
    "list(unpack(list(deconstruct_command('1'))[:-1], 3))"
   ]
  },
  {
   "cell_type": "code",
   "execution_count": 11,
   "metadata": {},
   "outputs": [
    {
     "name": "stdout",
     "output_type": "stream",
     "text": [
      "3\n",
      "0\n",
      "0\n",
      "0\n",
      "0\n",
      "0\n",
      "0\n",
      "0\n",
      "0\n",
      "6069343\n"
     ]
    }
   ],
   "source": [
    "while pos < last_pos:\n",
    "    \n",
    "    command = str(file[pos])\n",
    "    command = list(deconstruct_command(command))\n",
    "    *command, DE = command\n",
    "    if DE == 1:\n",
    "        command = list(unpack(command, 3))\n",
    "        C = pos_or_imed(command[0], pos+1)\n",
    "        B = pos_or_imed(command[1], pos+2)\n",
    "        file[int(file[pos+3])] = C+B\n",
    "        pos += 4\n",
    "    elif DE == 2:\n",
    "        command = list(unpack(command, 3))\n",
    "        # Oh i just wasted my time trying to solve a much harder problem in a more abstracted way\n",
    "        C = pos_or_imed(command[0], pos+1)\n",
    "        B = pos_or_imed(command[1], pos+2)\n",
    "        file[int(file[pos+3])] = C*B\n",
    "        pos += 4\n",
    "    elif DE == 3:\n",
    "        C = file[pos+1]\n",
    "        file[int(C)] = 1\n",
    "        pos += 2\n",
    "    elif DE == 4:\n",
    "        print(file[int(file[pos+1])])\n",
    "        pos += 2\n",
    "    elif DE == 0:\n",
    "        print('hello')\n",
    "    else:\n",
    "        break"
   ]
  },
  {
   "cell_type": "code",
   "execution_count": null,
   "metadata": {},
   "outputs": [],
   "source": []
  },
  {
   "cell_type": "code",
   "execution_count": null,
   "metadata": {},
   "outputs": [],
   "source": []
  },
  {
   "cell_type": "code",
   "execution_count": null,
   "metadata": {},
   "outputs": [],
   "source": []
  },
  {
   "cell_type": "code",
   "execution_count": null,
   "metadata": {},
   "outputs": [],
   "source": []
  },
  {
   "cell_type": "code",
   "execution_count": null,
   "metadata": {},
   "outputs": [],
   "source": []
  },
  {
   "cell_type": "code",
   "execution_count": null,
   "metadata": {},
   "outputs": [],
   "source": []
  },
  {
   "cell_type": "code",
   "execution_count": null,
   "metadata": {},
   "outputs": [],
   "source": []
  },
  {
   "cell_type": "code",
   "execution_count": null,
   "metadata": {},
   "outputs": [],
   "source": []
  },
  {
   "cell_type": "code",
   "execution_count": null,
   "metadata": {},
   "outputs": [],
   "source": []
  },
  {
   "cell_type": "code",
   "execution_count": 22,
   "metadata": {},
   "outputs": [
    {
     "name": "stdout",
     "output_type": "stream",
     "text": [
      "0\n",
      "2\n",
      "6\n",
      "238\n",
      "241\n",
      "247\n",
      "250\n",
      "256\n",
      "259\n",
      "265\n",
      "268\n",
      "274\n",
      "280\n",
      "284\n",
      "288\n",
      "294\n",
      "300\n",
      "304\n",
      "308\n",
      "314\n",
      "318\n",
      "322\n",
      "329\n",
      "333\n",
      "337\n",
      "344\n",
      "348\n",
      "352\n",
      "355\n",
      "359\n",
      "363\n",
      "367\n",
      "370\n",
      "374\n",
      "378\n",
      "382\n",
      "389\n",
      "393\n",
      "397\n",
      "404\n",
      "408\n",
      "412\n",
      "419\n",
      "423\n",
      "427\n",
      "434\n",
      "438\n",
      "442\n",
      "445\n",
      "449\n",
      "453\n",
      "457\n",
      "464\n",
      "468\n",
      "472\n",
      "475\n",
      "479\n",
      "483\n",
      "487\n",
      "494\n",
      "498\n",
      "502\n",
      "509\n",
      "513\n",
      "517\n",
      "520\n",
      "524\n",
      "528\n",
      "532\n",
      "535\n",
      "539\n",
      "543\n",
      "547\n",
      "550\n",
      "554\n",
      "558\n",
      "562\n",
      "569\n",
      "573\n",
      "577\n",
      "580\n",
      "584\n",
      "588\n",
      "592\n",
      "599\n",
      "603\n",
      "607\n",
      "614\n",
      "618\n",
      "622\n",
      "629\n",
      "633\n",
      "637\n",
      "640\n",
      "644\n",
      "648\n",
      "652\n",
      "655\n",
      "659\n",
      "663\n",
      "667\n",
      "674\n",
      "3188550\n",
      "676\n"
     ]
    }
   ],
   "source": [
    "while pos < last_pos:\n",
    "    print(pos)\n",
    "    command = str(file[pos])\n",
    "    command = list(deconstruct_command(command))\n",
    "    *command, DE = command\n",
    "    if DE == 1:\n",
    "        command = list(unpack(command, 3))\n",
    "        C = pos_or_imed(command[0], pos+1)\n",
    "        B = pos_or_imed(command[1], pos+2)\n",
    "        file[int(file[pos+3])] = C+B\n",
    "        pos += 4\n",
    "    elif DE == 2:\n",
    "        command = list(unpack(command, 3))\n",
    "        # Oh i just wasted my time trying to solve a much harder problem in a more abstracted way\n",
    "        C = pos_or_imed(command[0], pos+1)\n",
    "        B = pos_or_imed(command[1], pos+2)\n",
    "        file[int(file[pos+3])] = C*B\n",
    "        pos += 4\n",
    "    elif DE == 3:\n",
    "        C = file[pos+1]\n",
    "        file[int(C)] = 5\n",
    "        pos += 2\n",
    "    elif DE == 4:\n",
    "        print(file[int(file[pos+1])])\n",
    "        pos += 2\n",
    "    elif DE == 5:\n",
    "        command = list(unpack(command, 2))\n",
    "        if pos_or_imed(command[0], pos+1) != 0:\n",
    "            pos = pos_or_imed(command[1], pos+2)\n",
    "        else:\n",
    "            pos += 3\n",
    "    elif DE == 6:\n",
    "        command = list(unpack(command, 2))\n",
    "        \n",
    "        if pos_or_imed(command[0], pos+1) == 0:\n",
    "            pos = pos_or_imed(command[1], pos+2)\n",
    "        else:\n",
    "            pos += 3\n",
    "    elif DE == 7:\n",
    "        command = list(unpack(command, 2))\n",
    "        if pos_or_imed(command[0], pos+1) < pos_or_imed(command[1], pos+2):\n",
    "            file[int(file[pos+3])] = '1'\n",
    "        else:\n",
    "            file[int(file[pos+3])] = '0'\n",
    "        pos += 4\n",
    "    elif DE == 8:\n",
    "        command = list(unpack(command, 2))\n",
    "        if pos_or_imed(command[0], pos+1) == pos_or_imed(command[1], pos+2):\n",
    "            file[int(file[pos+3])] = '1'\n",
    "        else:\n",
    "            file[int(file[pos+3])] = '0'\n",
    "        pos += 4\n",
    "    else:\n",
    "        break"
   ]
  },
  {
   "cell_type": "code",
   "execution_count": 14,
   "metadata": {},
   "outputs": [
    {
     "data": {
      "text/plain": [
       "'99'"
      ]
     },
     "execution_count": 14,
     "metadata": {},
     "output_type": "execute_result"
    }
   ],
   "source": [
    "file[222]"
   ]
  },
  {
   "cell_type": "code",
   "execution_count": null,
   "metadata": {},
   "outputs": [],
   "source": []
  }
 ],
 "metadata": {
  "kernelspec": {
   "display_name": "Python 3",
   "language": "python",
   "name": "python3"
  },
  "language_info": {
   "codemirror_mode": {
    "name": "ipython",
    "version": 3
   },
   "file_extension": ".py",
   "mimetype": "text/x-python",
   "name": "python",
   "nbconvert_exporter": "python",
   "pygments_lexer": "ipython3",
   "version": "3.7.0"
  }
 },
 "nbformat": 4,
 "nbformat_minor": 2
}
