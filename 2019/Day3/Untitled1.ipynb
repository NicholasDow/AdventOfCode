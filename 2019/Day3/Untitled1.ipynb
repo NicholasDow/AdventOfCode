{
 "cells": [
  {
   "cell_type": "code",
   "execution_count": 1,
   "metadata": {},
   "outputs": [],
   "source": [
    "file = open('input.txt').readlines()"
   ]
  },
  {
   "cell_type": "code",
   "execution_count": 7,
   "metadata": {},
   "outputs": [],
   "source": [
    "path1 = file[0]\n",
    "path2 = file[1]\n",
    "\n",
    "import numpy as np\n",
    "\n",
    "path1 = path1.strip().split(',')\n",
    "path2 = path2.strip().split(',')\n",
    "\n",
    "from collections import defaultdict\n",
    "\n",
    "sparse = defaultdict(set)\n",
    "steps = 0\n",
    "x, y = 0, 0\n",
    "sparse[(x,y)] = 1\n",
    "for directions in path1:\n",
    "    amount = int(directions[1:])\n",
    "    direction = directions[0]\n",
    "    if direction == 'U':\n",
    "        for _ in range(amount):\n",
    "            y+=1\n",
    "            steps +=1\n",
    "            sparse[(x,y)] = (1, steps)\n",
    "    elif direction == 'D':\n",
    "        for _ in range(amount):\n",
    "            y-=1\n",
    "            steps +=1\n",
    "            sparse[(x,y)] = (1, steps)\n",
    "    elif direction == 'R':\n",
    "        for _ in range(amount):\n",
    "            x+=1\n",
    "            steps +=1\n",
    "            sparse[(x,y)] = (1, steps)\n",
    "    elif direction == 'L':\n",
    "        for _ in range(amount):\n",
    "            x-=1\n",
    "            steps +=1\n",
    "            sparse[(x,y)] = (1, steps)\n",
    "\n",
    "sparse\n",
    "\n",
    "x, y = 0, 0\n",
    "steps2 = 0\n",
    "cross = {}\n",
    "for directions in path2:\n",
    "    amount = int(directions[1:])\n",
    "    direction = directions[0]\n",
    "    if direction == 'U':\n",
    "        for _ in range(amount):\n",
    "            y+=1\n",
    "            steps2 +=1\n",
    "            if sparse[(x,y)] != set():\n",
    "                cross[(x,y)] = (sparse[(x,y)][1], steps2)\n",
    "    elif direction == 'D':\n",
    "        for _ in range(amount):\n",
    "            y-=1\n",
    "            steps2 +=1\n",
    "            if sparse[(x,y)] != set():\n",
    "                cross[(x,y)] = (sparse[(x,y)][1], steps2)\n",
    "    elif direction == 'R':\n",
    "        for _ in range(amount):\n",
    "            x+=1\n",
    "            steps2 +=1\n",
    "            if sparse[(x,y)] != set():\n",
    "                cross[(x,y)] = (sparse[(x,y)][1], steps2)\n",
    "    elif direction == 'L':\n",
    "        for _ in range(amount):\n",
    "            x-=1\n",
    "            steps2 +=1\n",
    "            if sparse[(x,y)] != set():\n",
    "                cross[(x,y)] = (sparse[(x,y)][1], steps2)\n"
   ]
  },
  {
   "cell_type": "code",
   "execution_count": 11,
   "metadata": {},
   "outputs": [
    {
     "data": {
      "text/plain": [
       "7534"
      ]
     },
     "execution_count": 11,
     "metadata": {},
     "output_type": "execute_result"
    }
   ],
   "source": [
    "min([x+y for x,y in cross.values()])"
   ]
  },
  {
   "cell_type": "code",
   "execution_count": null,
   "metadata": {},
   "outputs": [],
   "source": [
    "dist = {abs(x) + abs(y):(x,y) for x,y in cross}\n",
    "\n",
    "min(dist.keys())"
   ]
  }
 ],
 "metadata": {
  "kernelspec": {
   "display_name": "Python 3",
   "language": "python",
   "name": "python3"
  },
  "language_info": {
   "codemirror_mode": {
    "name": "ipython",
    "version": 3
   },
   "file_extension": ".py",
   "mimetype": "text/x-python",
   "name": "python",
   "nbconvert_exporter": "python",
   "pygments_lexer": "ipython3",
   "version": "3.7.0"
  }
 },
 "nbformat": 4,
 "nbformat_minor": 2
}
